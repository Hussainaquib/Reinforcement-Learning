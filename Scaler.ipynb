{
 "cells": [
  {
   "cell_type": "markdown",
   "id": "93bcadef",
   "metadata": {},
   "source": [
    "# Calculate the accuracy after StandardScaler on dataset (reward_function_3)"
   ]
  },
  {
   "cell_type": "code",
   "execution_count": 8,
   "id": "6c9d23cf",
   "metadata": {},
   "outputs": [],
   "source": [
    "import pandas as pd\n",
    "\n",
    "df = pd.read_csv('file1.csv')\n",
    "\n",
    "alpha = 0.90\n",
    "previousValues = []\n",
    "\n",
    "def rewardget(score, previousValues):\n",
    "    previousValues_mean = sum(previousValues[-10:]) / len(previousValues[-10:]) if previousValues else 0\n",
    "    if score >= 0 and score <= 19:\n",
    "        reward = 50 - (previousValues_mean / 10)\n",
    "    elif score >= 20 and score <= 39:\n",
    "        reward = 40 - (previousValues_mean / 10)\n",
    "    elif score >= 40 and score <= 59:\n",
    "        reward = 30 - (previousValues_mean / 10)\n",
    "    elif score >= 60 and score <= 79:\n",
    "        reward = 20 - (previousValues_mean / 10)\n",
    "    elif score >= 80 and score <= 99:\n",
    "        reward = 10 - (previousValues_mean / 10)\n",
    "    elif score == 100:\n",
    "        reward = 0 - (previousValues_mean / 10)\n",
    "    elif score >= 101 and score <= 120:\n",
    "        reward = -10 - (previousValues_mean / 10)\n",
    "    elif score >= 121 and score <= 140:\n",
    "        reward = -20 - (previousValues_mean / 10)\n",
    "    elif score >= 141 and score <= 160:\n",
    "        reward = -30 - (previousValues_mean / 10)\n",
    "    elif score >= 161 and score <= 180:\n",
    "        reward = -40 - (previousValues_mean / 10)\n",
    "    elif score >= 181 and score <= 200:\n",
    "        reward = -50 - (previousValues_mean / 10)\n",
    "    return reward\n",
    "\n",
    "def valuefind(reward, previousValue, prev_score, current_score):\n",
    "    if abs(current_score - prev_score) > 100:\n",
    "        currentValue = 2 * reward + alpha * previousValue\n",
    "    else:\n",
    "        currentValue = reward + alpha * previousValue\n",
    "    return currentValue\n",
    "\n",
    "currentValues = []\n",
    "previousValue = 0\n",
    "prev_score = df.loc[0, 'score']  # Initialize prev_score with the first score in the dataframe\n",
    "\n",
    "for i in range(len(df)):\n",
    "    score = df.loc[i, 'score']\n",
    "    reward = rewardget(score, previousValues)\n",
    "    currentValue = valuefind(reward, previousValue, prev_score, score)\n",
    "    currentValues.append(currentValue)\n",
    "    previousValues.append(currentValue)\n",
    "    previousValue = currentValue\n",
    "    prev_score = score\n",
    "\n",
    "# Append 'currentValues' as a new column to the DataFrame\n",
    "df['currentValues'] = currentValues\n",
    "\n",
    "# df.head(20)"
   ]
  },
  {
   "cell_type": "code",
   "execution_count": 9,
   "id": "d0244ea1",
   "metadata": {},
   "outputs": [],
   "source": [
    "from sklearn.model_selection import train_test_split\n",
    "from sklearn.linear_model import LinearRegression\n",
    "from sklearn.metrics import mean_squared_error\n",
    "\n",
    "# Separate input features and output\n",
    "X = df[['score', 'attack']]\n",
    "y = df['currentValues']\n",
    "\n",
    "# Split the dataframe\n",
    "X_train, X_test, y_train, y_test = train_test_split(X, y, test_size=0.15)\n",
    "\n"
   ]
  },
  {
   "cell_type": "code",
   "execution_count": 10,
   "id": "43807ac9",
   "metadata": {},
   "outputs": [],
   "source": [
    "from sklearn.preprocessing import StandardScaler\n",
    "scaler=StandardScaler()\n",
    "X_train=scaler.fit_transform(X_train)\n",
    "X_test=scaler.transform(X_test)"
   ]
  },
  {
   "cell_type": "code",
   "execution_count": 11,
   "id": "c042b5f7",
   "metadata": {},
   "outputs": [
    {
     "name": "stdout",
     "output_type": "stream",
     "text": [
      "Accuracy: 0.3567983559863337\n"
     ]
    }
   ],
   "source": [
    "from sklearn.metrics import accuracy_score\n",
    "model = LinearRegression()\n",
    "model.fit(X_train, y_train)\n",
    "\n",
    "# predictions\n",
    "y_pred = model.predict(X_test)\n",
    "\n",
    "# Calculate accuracy\n",
    "mse = mean_squared_error(y_test, y_pred)\n",
    "accuracy = 1 - (mse / y_test.var())\n",
    "print(\"Accuracy:\", accuracy)\n",
    "\n",
    "# accuracy_score(y_test,y_pred)"
   ]
  },
  {
   "cell_type": "markdown",
   "id": "bcbf257b",
   "metadata": {},
   "source": [
    "### Scale the our data after train test split but there is no changes i found in accuracy"
   ]
  }
 ],
 "metadata": {
  "kernelspec": {
   "display_name": "Python 3 (ipykernel)",
   "language": "python",
   "name": "python3"
  },
  "language_info": {
   "codemirror_mode": {
    "name": "ipython",
    "version": 3
   },
   "file_extension": ".py",
   "mimetype": "text/x-python",
   "name": "python",
   "nbconvert_exporter": "python",
   "pygments_lexer": "ipython3",
   "version": "3.10.9"
  }
 },
 "nbformat": 4,
 "nbformat_minor": 5
}
