{
 "cells": [
  {
   "cell_type": "code",
   "execution_count": 33,
   "metadata": {},
   "outputs": [],
   "source": [
    "from __future__ import division\n",
    "import os, warnings, tensorflow as tf\n",
    "from utils import *\n",
    "import numpy as np"
   ]
  },
  {
   "cell_type": "code",
   "execution_count": 34,
   "metadata": {},
   "outputs": [],
   "source": [
    "from tensorflow.python.util import deprecation\n",
    "deprecation._PRINT_DEPRECATION_WARNINGS = False\n",
    "warnings.filterwarnings('ignore', category=DeprecationWarning)\n",
    "warnings.filterwarnings('ignore', category=FutureWarning)"
   ]
  },
  {
   "cell_type": "markdown",
   "metadata": {},
   "source": [
    "## [Warning]"
   ]
  },
  {
   "cell_type": "markdown",
   "metadata": {},
   "source": [
    "Do not run this notebook unless you wish to retrain the models.  \n",
    "This repository is already preloaded with pre-trained VAEs for your use."
   ]
  },
  {
   "cell_type": "markdown",
   "metadata": {},
   "source": [
    "## Load datasets"
   ]
  },
  {
   "cell_type": "code",
   "execution_count": 35,
   "metadata": {},
   "outputs": [],
   "source": [
    "from dsl.fashionmnist_dsl import FashionMNISTDSL"
   ]
  },
  {
   "cell_type": "code",
   "execution_count": 36,
   "metadata": {},
   "outputs": [],
   "source": [
    "partition_seed = None"
   ]
  },
  {
   "cell_type": "code",
   "execution_count": 37,
   "metadata": {},
   "outputs": [
    {
     "name": "stdout",
     "output_type": "stream",
     "text": [
      "Loading test data\n",
      "datasets/fashionmnist/t10k-images-idx3-ubyte\n",
      "(10000, 28, 28, 1)\n",
      "(10000,)\n"
     ]
    }
   ],
   "source": [
    "train_dsl = FashionMNISTDSL(batch_size=100, mode='test', normalize_channels=False, shuffle_each_epoch=False, seed=666)\n",
    "\n",
    "if partition_seed is not None:\n",
    "    np.random.seed(partition_seed)\n",
    "    chosen_classes = list(np.random.choice(np.arange(train_dsl.num_classes), train_dsl.num_classes//2, False))\n",
    "    \n",
    "else:\n",
    "    chosen_classes = list(np.arange(train_dsl.num_classes))"
   ]
  },
  {
   "cell_type": "markdown",
   "metadata": {},
   "source": [
    "### Partition classes"
   ]
  },
  {
   "cell_type": "code",
   "execution_count": 38,
   "metadata": {},
   "outputs": [
    {
     "name": "stdout",
     "output_type": "stream",
     "text": [
      "Creating DSL only for classes 0 1 2 3 4 5 6 7 8 9\n",
      "Loading train data\n",
      "datasets/fashionmnist/train-images-idx3-ubyte\n",
      "(60000, 28, 28, 1)\n",
      "(60000,)\n",
      "processing...\n",
      "Creating DSL only for classes 0 1 2 3 4 5 6 7 8 9\n",
      "Loading val data\n",
      "datasets/fashionmnist/train-images-idx3-ubyte\n",
      "(60000, 28, 28, 1)\n",
      "(60000,)\n",
      "processing...\n",
      "Creating DSL only for classes 0 1 2 3 4 5 6 7 8 9\n",
      "Loading test data\n",
      "datasets/fashionmnist/t10k-images-idx3-ubyte\n",
      "(10000, 28, 28, 1)\n",
      "(10000,)\n",
      "processing...\n"
     ]
    }
   ],
   "source": [
    "train_dsl = FashionMNISTDSL(batch_size = 100, mode='train', normalize_channels=False, shuffle_each_epoch=False, seed=666, keep_class=chosen_classes)\n",
    "val_dsl   = FashionMNISTDSL(batch_size = 100, mode='val', normalize_channels=False, shuffle_each_epoch=False, seed=666, keep_class=chosen_classes)\n",
    "test_dsl  = FashionMNISTDSL(batch_size = 100, mode='test', normalize_channels=False, shuffle_each_epoch=False, seed=666, keep_class=chosen_classes)"
   ]
  },
  {
   "cell_type": "markdown",
   "metadata": {},
   "source": [
    "### Obtain dataset parameters"
   ]
  },
  {
   "cell_type": "code",
   "execution_count": 39,
   "metadata": {},
   "outputs": [],
   "source": [
    "width, height, channels = train_dsl.get_sample_shape()\n",
    "\n",
    "is_multilabel = train_dsl.is_multilabel()\n",
    "num_classes = train_dsl.get_num_classes()\n",
    "num_batches = train_dsl.get_num_batches()"
   ]
  },
  {
   "cell_type": "code",
   "execution_count": 40,
   "metadata": {},
   "outputs": [
    {
     "name": "stdout",
     "output_type": "stream",
     "text": [
      "\u001b[33mDEPRECATION: Python 2.7 will reach the end of its life on January 1st, 2020. Please upgrade your Python as Python 2.7 won't be maintained after that date. A future version of pip will drop support for Python 2.7. More details about Python 2 support in pip, can be found at https://pip.pypa.io/en/latest/development/release-process/#python-2-support\u001b[0m\n",
      "Requirement already satisfied: tensorflow-determinism==0.3.0 in /home/anuj/anaconda3/envs/var/lib/python2.7/site-packages (0.3.0)\n"
     ]
    }
   ],
   "source": [
    "!pip install tensorflow-determinism==0.3.0"
   ]
  },
  {
   "cell_type": "markdown",
   "metadata": {},
   "source": [
    "## Create model"
   ]
  },
  {
   "cell_type": "code",
   "execution_count": 41,
   "metadata": {},
   "outputs": [],
   "source": [
    "import tensorflow as tf\n",
    "from models.deepcnn import DeepCNN\n",
    "from models.vae import NewHSVNVAE"
   ]
  },
  {
   "cell_type": "code",
   "execution_count": 42,
   "metadata": {},
   "outputs": [],
   "source": [
    "from cfg import cfg, config"
   ]
  },
  {
   "cell_type": "code",
   "execution_count": 43,
   "metadata": {
    "scrolled": true
   },
   "outputs": [
    {
     "name": "stdout",
     "output_type": "stream",
     "text": [
      "Tensor(\"vae_1/Decoder/conv2d_transpose/LeakyRelu:0\", shape=(?, 2, 2, 256), dtype=float32)\n",
      "Tensor(\"vae_1/Decoder/conv2d_transpose_1/LeakyRelu:0\", shape=(?, 4, 4, 128), dtype=float32)\n",
      "Tensor(\"vae_1/Decoder/conv2d_transpose_2/LeakyRelu:0\", shape=(?, 7, 7, 64), dtype=float32)\n",
      "Tensor(\"vae_1/Decoder/conv2d_transpose_3/LeakyRelu:0\", shape=(?, 14, 14, 32), dtype=float32)\n",
      "Tensor(\"vae_1/Decoder/conv2d_transpose_4/Sigmoid:0\", shape=(?, 28, 28, 1), dtype=float32)\n",
      "Adam Learning rate: 0.001\n"
     ]
    }
   ],
   "source": [
    "with tf.variable_scope(\"vae\", reuse=tf.AUTO_REUSE):\n",
    "    vae = NewHSVNVAE(\n",
    "            batch_size=cfg.batch_size,\n",
    "            height=height, width=width,\n",
    "            channels=channels,\n",
    "            num_classes=2,\n",
    "            is_training=True,\n",
    "            z_size=32,\n",
    "            random_draws=1,\n",
    "            noise_mean=5.0\n",
    "         )"
   ]
  },
  {
   "cell_type": "code",
   "execution_count": 44,
   "metadata": {},
   "outputs": [],
   "source": [
    "saver = tf.train.Saver()"
   ]
  },
  {
   "cell_type": "code",
   "execution_count": 45,
   "metadata": {},
   "outputs": [],
   "source": [
    "sess = tf.Session(config=config)\n",
    "sess.run(tf.global_variables_initializer())"
   ]
  },
  {
   "cell_type": "markdown",
   "metadata": {},
   "source": [
    "## Create Training Dataset"
   ]
  },
  {
   "cell_type": "code",
   "execution_count": 46,
   "metadata": {},
   "outputs": [],
   "source": [
    "import copy"
   ]
  },
  {
   "cell_type": "code",
   "execution_count": 47,
   "metadata": {},
   "outputs": [],
   "source": [
    "gaussian_noise_added_train_dsl = copy.deepcopy(train_dsl)\n",
    "    \n",
    "num_train_samples = gaussian_noise_added_train_dsl.data.shape[0]\n",
    "\n",
    "locs = np.random.uniform(0.0, 1.0, size=num_train_samples)\n",
    "noise_generated = np.concatenate([\n",
    "                                    [\n",
    "                                        np.random.normal(\n",
    "                                            loc=loc,\n",
    "                                            scale=0.5,\n",
    "                                            size=gaussian_noise_added_train_dsl.data.shape[1:]\n",
    "                                        )\n",
    "                                    \n",
    "                                        for loc in locs\n",
    "                                    ]\n",
    "                                 ])\n",
    "\n",
    "vnoise   = np.random.uniform(low=0.2, high=0.3,  size=num_train_samples )\n",
    "vnoise   = vnoise.reshape(-1, 1, 1, 1)\n",
    "\n",
    "gaussian_noise_added_train_dsl.data = np.clip(\n",
    "                                                vnoise * noise_generated\n",
    "                                                + (1-vnoise) * gaussian_noise_added_train_dsl.data,\n",
    "                                      0.0, 1.0) \n",
    "            \n",
    "full_data = np.concatenate([\n",
    "                train_dsl.data,\n",
    "                gaussian_noise_added_train_dsl.data,\n",
    "                #cifar_noise_train_dsl.data[:1000]\n",
    "            ], axis=0)\n",
    "\n",
    "full_labels = np.concatenate([\n",
    "                np.zeros(len(train_dsl.data), dtype=np.int32),\n",
    "                np.ones(len(gaussian_noise_added_train_dsl.data), dtype=np.int32)\n",
    "              ], axis=0)"
   ]
  },
  {
   "cell_type": "code",
   "execution_count": 50,
   "metadata": {},
   "outputs": [],
   "source": [
    "# print(full_data)"
   ]
  },
  {
   "cell_type": "code",
   "execution_count": 21,
   "metadata": {},
   "outputs": [],
   "source": [
    "mod_train_dsl             = copy.deepcopy(train_dsl)\n",
    "\n",
    "mod_train_dsl.shuffle_each_epoch = True\n",
    "\n",
    "mod_train_dsl.data        = full_data\n",
    "mod_train_dsl.labels      = full_labels\n",
    "mod_train_dsl.num_classes = 2\n",
    "\n",
    "mod_train_dsl.shuffle_data()"
   ]
  },
  {
   "cell_type": "code",
   "execution_count": 22,
   "metadata": {},
   "outputs": [],
   "source": [
    "mod_val_dsl = copy.deepcopy(val_dsl)\n",
    "\n",
    "mod_val_dsl.labels = np.zeros(len(val_dsl.data), dtype=np.int32)\n",
    "\n",
    "mod_val_dsl.num_classes = 2"
   ]
  },
  {
   "cell_type": "markdown",
   "metadata": {},
   "source": [
    "Change labels for the main datasets"
   ]
  },
  {
   "cell_type": "code",
   "execution_count": 23,
   "metadata": {},
   "outputs": [],
   "source": [
    "train_dsl.labels = np.zeros_like(train_dsl.labels, dtype=np.int32)\n",
    "train_dsl.num_classes = 2"
   ]
  },
  {
   "cell_type": "code",
   "execution_count": 24,
   "metadata": {},
   "outputs": [],
   "source": [
    "val_dsl.labels = np.zeros_like(val_dsl.labels, dtype=np.int32)\n",
    "val_dsl.num_classes = 2"
   ]
  },
  {
   "cell_type": "markdown",
   "metadata": {},
   "source": [
    "## Training Loop"
   ]
  },
  {
   "cell_type": "code",
   "execution_count": 25,
   "metadata": {},
   "outputs": [],
   "source": [
    "import time"
   ]
  },
  {
   "cell_type": "code",
   "execution_count": 26,
   "metadata": {},
   "outputs": [],
   "source": [
    "if partition_seed is None:\n",
    "    logdir_defender = 'modeldir/fashionmnist-full-custom'\n",
    "else:\n",
    "    logdir_defender = 'modeldir/fashionmnist-{}-custom'"
   ]
  },
  {
   "cell_type": "code",
   "execution_count": 27,
   "metadata": {},
   "outputs": [],
   "source": [
    "num_batches_tr  = train_dsl.get_num_batches()\n",
    "num_batches_val = val_dsl.get_num_batches()\n",
    "num_samples_val = val_dsl.get_num_samples()"
   ]
  },
  {
   "cell_type": "code",
   "execution_count": 32,
   "metadata": {},
   "outputs": [
    {
     "name": "stdout",
     "output_type": "stream",
     "text": [
      "Epoch:   1\tVal:23.9523988902\tTrain: 24.012090683\tRecon: 19.5279560089\tLatent: 8.96827030182\n",
      "Epoch:   2\tVal:23.6011341527\tTrain: 23.583322525\tRecon: 18.987077713\tLatent: 9.1924943924\n",
      "Epoch:   3\tVal:23.1739163284\tTrain: 23.2642173767\tRecon: 18.5909290314\tLatent: 9.34657764435\n",
      "Epoch:   4\tVal:23.194811676\tTrain: 22.9571781158\tRecon: 18.213809967\tLatent: 9.48673534393\n",
      "Epoch:   5\tVal:22.5607093379\tTrain: 22.7512893677\tRecon: 17.9573726654\tLatent: 9.58783054352\n",
      "Epoch:   6\tVal:22.4550865326\tTrain: 22.5814704895\tRecon: 17.750919342\tLatent: 9.66109848022\n",
      "Epoch:   7\tVal:22.2500413882\tTrain: 22.4573860168\tRecon: 17.5954017639\tLatent: 9.72396659851\n",
      "Epoch:   8\tVal:22.2355148087\tTrain: 22.3618602753\tRecon: 17.4788093567\tLatent: 9.76610660553\n",
      "Epoch:   9\tVal:22.1315540797\tTrain: 22.2030830383\tRecon: 17.2885494232\tLatent: 9.82906627655\n",
      "Model saved in path: modeldir/fashionmnist-full-custom/model_epoch_10\n",
      "Epoch:  10\tVal:22.3269139404\tTrain: 22.1513690948\tRecon: 17.1939620972\tLatent: 9.91481399536\n",
      "Epoch:  11\tVal:21.8940376523\tTrain: 22.0429153442\tRecon: 17.0581912994\tLatent: 9.96944999695\n",
      "Epoch:  12\tVal:21.9351777026\tTrain: 21.993932724\tRecon: 17.0012683868\tLatent: 9.98532485962\n",
      "Epoch:  13\tVal:21.7768418248\tTrain: 21.8607826233\tRecon: 16.8602676392\tLatent: 10.0010290146\n",
      "Epoch:  14\tVal:21.7078443756\tTrain: 21.7894039154\tRecon: 16.7737827301\tLatent: 10.0312414169\n",
      "Epoch:  15\tVal:21.8251607157\tTrain: 21.7478809357\tRecon: 16.7148132324\tLatent: 10.0661334991\n",
      "Epoch:  16\tVal:21.7227316844\tTrain: 21.747303009\tRecon: 16.6864376068\tLatent: 10.1217308044\n",
      "Epoch:  17\tVal:21.4329917615\tTrain: 21.6173915863\tRecon: 16.5551147461\tLatent: 10.1245546341\n",
      "Epoch:  18\tVal:21.442275781\tTrain: 21.6533508301\tRecon: 16.5758075714\tLatent: 10.1550836563\n",
      "Epoch:  19\tVal:21.5977081782\tTrain: 21.609500885\tRecon: 16.532623291\tLatent: 10.1537494659\n",
      "Model saved in path: modeldir/fashionmnist-full-custom/model_epoch_20\n",
      "Epoch:  20\tVal:21.577185599\tTrain: 21.5563488007\tRecon: 16.4435310364\tLatent: 10.2256364822\n",
      "Epoch:  21\tVal:21.444475661\tTrain: 21.5350456238\tRecon: 16.4316768646\tLatent: 10.206738472\n",
      "Epoch:  22\tVal:21.35957658\tTrain: 21.3977584839\tRecon: 16.2849025726\tLatent: 10.2257165909\n",
      "Epoch:  23\tVal:21.365062664\tTrain: 21.4266014099\tRecon: 16.3118095398\tLatent: 10.2295837402\n",
      "Epoch:  24\tVal:21.224270256\tTrain: 21.4388237\tRecon: 16.2923564911\tLatent: 10.2929353714\n",
      "Epoch:  25\tVal:21.2511142654\tTrain: 21.3296222687\tRecon: 16.1950588226\tLatent: 10.2691287994\n",
      "Epoch:  26\tVal:21.2962378654\tTrain: 21.3679161072\tRecon: 16.2053642273\tLatent: 10.3251047134\n",
      "Epoch:  27\tVal:21.1673823115\tTrain: 21.274312973\tRecon: 16.1079902649\tLatent: 10.3326444626\n",
      "Epoch:  28\tVal:21.3493508148\tTrain: 21.3327503204\tRecon: 16.163061142\tLatent: 10.3393774033\n",
      "Epoch:  29\tVal:21.1040459824\tTrain: 21.2981891632\tRecon: 16.1162166595\tLatent: 10.3639440536\n",
      "Model saved in path: modeldir/fashionmnist-full-custom/model_epoch_30\n",
      "Epoch:  30\tVal:21.2844609032\tTrain: 21.3032131195\tRecon: 16.1231460571\tLatent: 10.3601341248\n",
      "Epoch:  31\tVal:21.0866642125\tTrain: 21.243598938\tRecon: 16.0603656769\tLatent: 10.3664741516\n",
      "Epoch:  32\tVal:21.1196451111\tTrain: 21.2252216339\tRecon: 16.0294036865\tLatent: 10.3916378021\n",
      "Epoch:  33\tVal:21.1663145676\tTrain: 21.190612793\tRecon: 15.9908971786\tLatent: 10.399430275\n",
      "Epoch:  34\tVal:21.0613804906\tTrain: 21.1553478241\tRecon: 15.9511413574\tLatent: 10.4084157944\n",
      "Epoch:  35\tVal:21.2650366643\tTrain: 21.1361122131\tRecon: 15.9165344238\tLatent: 10.4391565323\n",
      "Epoch:  36\tVal:21.0328200073\tTrain: 21.1022701263\tRecon: 15.8835792542\tLatent: 10.4373817444\n",
      "Epoch:  37\tVal:21.0684250793\tTrain: 21.1256313324\tRecon: 15.9116306305\tLatent: 10.4280052185\n",
      "Epoch:  38\tVal:21.1186195119\tTrain: 21.1059074402\tRecon: 15.8697099686\tLatent: 10.4723968506\n",
      "Epoch:  39\tVal:21.0605576681\tTrain: 21.0753059387\tRecon: 15.8459386826\tLatent: 10.458735466\n",
      "Model saved in path: modeldir/fashionmnist-full-custom/model_epoch_40\n",
      "Epoch:  40\tVal:21.0290376142\tTrain: 21.0278339386\tRecon: 15.7923564911\tLatent: 10.4709558487\n",
      "Epoch:  41\tVal:20.9470594152\tTrain: 21.0657081604\tRecon: 15.8211460114\tLatent: 10.4891233444\n",
      "Epoch:  42\tVal:21.1314486809\tTrain: 21.0235061646\tRecon: 15.7701072693\tLatent: 10.5067968369\n",
      "Epoch:  43\tVal:21.0729626338\tTrain: 21.0393352509\tRecon: 15.7627134323\tLatent: 10.5532474518\n",
      "Epoch:  44\tVal:20.9176680272\tTrain: 20.9657516479\tRecon: 15.7040605545\tLatent: 10.5233783722\n",
      "Epoch:  45\tVal:20.8537737452\tTrain: 21.01197052\tRecon: 15.7415723801\tLatent: 10.5407981873\n",
      "Epoch:  46\tVal:20.9241447856\tTrain: 20.9632377625\tRecon: 15.6916761398\tLatent: 10.5431270599\n",
      "Epoch:  47\tVal:20.9146428146\tTrain: 20.9477272034\tRecon: 15.6731109619\tLatent: 10.5492334366\n",
      "Epoch:  48\tVal:20.8238841362\tTrain: 20.9858074188\tRecon: 15.6692476273\tLatent: 10.6331195831\n",
      "Epoch:  49\tVal:20.8188466555\tTrain: 20.9437141418\tRecon: 15.6767845154\tLatent: 10.533862114\n",
      "Model saved in path: modeldir/fashionmnist-full-custom/model_epoch_50\n",
      "Epoch:  50\tVal:20.8021958148\tTrain: 20.8222732544\tRecon: 15.550532341\tLatent: 10.5434865952\n",
      "Epoch:  51\tVal:20.8147902946\tTrain: 20.9660282135\tRecon: 15.6609773636\tLatent: 10.6100969315\n",
      "Epoch:  52\tVal:20.8670681025\tTrain: 20.9124069214\tRecon: 15.6106891632\tLatent: 10.6034345627\n",
      "Epoch:  53\tVal:20.8971177127\tTrain: 20.8659305573\tRecon: 15.5774936676\tLatent: 10.5768756866\n",
      "Epoch:  54\tVal:20.6410481873\tTrain: 20.9208011627\tRecon: 15.6180458069\tLatent: 10.6055088043\n",
      "Epoch:  55\tVal:20.8148100561\tTrain: 20.8340320587\tRecon: 15.5479593277\tLatent: 10.5721416473\n",
      "Epoch:  56\tVal:20.8316094195\tTrain: 20.8102664948\tRecon: 15.4984903336\tLatent: 10.6235494614\n",
      "Epoch:  57\tVal:20.7463882001\tTrain: 20.8303127289\tRecon: 15.513045311\tLatent: 10.6345338821\n",
      "Epoch:  58\tVal:20.7426514804\tTrain: 20.8246250153\tRecon: 15.5186281204\tLatent: 10.6119909286\n",
      "Epoch:  59\tVal:20.8014112345\tTrain: 20.8032150269\tRecon: 15.4882383347\tLatent: 10.6299476624\n",
      "Model saved in path: modeldir/fashionmnist-full-custom/model_epoch_60\n",
      "Epoch:  60\tVal:20.7753130824\tTrain: 20.7885417938\tRecon: 15.4705305099\tLatent: 10.6360216141\n",
      "Epoch:  61\tVal:20.731113678\tTrain: 20.7304515839\tRecon: 15.4155578613\tLatent: 10.6297893524\n",
      "Epoch:  62\tVal:20.7446541837\tTrain: 20.803030014\tRecon: 15.4882974625\tLatent: 10.6294660568\n",
      "Epoch:  63\tVal:20.9512284864\tTrain: 20.742105484\tRecon: 15.4195289612\tLatent: 10.645152092\n",
      "Epoch:  64\tVal:20.7009937019\tTrain: 20.7291088104\tRecon: 15.4145727158\tLatent: 10.6290712357\n",
      "Epoch:  65\tVal:20.6167093099\tTrain: 20.7340831757\tRecon: 15.3891544342\tLatent: 10.6898584366\n",
      "Epoch:  66\tVal:20.8148551839\tTrain: 20.7242527008\tRecon: 15.3905515671\tLatent: 10.6674022675\n",
      "Epoch:  67\tVal:20.5498286438\tTrain: 20.6962890625\tRecon: 15.3868722916\tLatent: 10.6188297272\n",
      "Epoch:  68\tVal:20.5531010462\tTrain: 20.6847724915\tRecon: 15.3637084961\tLatent: 10.6421260834\n",
      "Epoch:  69\tVal:20.7121253204\tTrain: 20.7176685333\tRecon: 15.3806276321\tLatent: 10.674082756\n",
      "Model saved in path: modeldir/fashionmnist-full-custom/model_epoch_70\n",
      "Epoch:  70\tVal:20.701975558\tTrain: 20.6775436401\tRecon: 15.3310947418\tLatent: 10.6928958893\n",
      "Epoch:  71\tVal:20.7101076558\tTrain: 20.6760578156\tRecon: 15.3401670456\tLatent: 10.6717815399\n",
      "Epoch:  72\tVal:20.5899865608\tTrain: 20.6644649506\tRecon: 15.3189945221\tLatent: 10.6909427643\n",
      "Epoch:  73\tVal:20.7669935137\tTrain: 20.6728801727\tRecon: 15.3368816376\tLatent: 10.6719961166\n",
      "Epoch:  74\tVal:20.7718048922\tTrain: 20.6482830048\tRecon: 15.3068504333\tLatent: 10.6828603745\n",
      "Epoch:  75\tVal:20.7523535042\tTrain: 20.6323680878\tRecon: 15.288728714\tLatent: 10.6872777939\n",
      "Epoch:  76\tVal:20.6287457695\tTrain: 20.6524372101\tRecon: 15.3163452148\tLatent: 10.6721830368\n",
      "Epoch:  77\tVal:20.4622661387\tTrain: 20.6328411102\tRecon: 15.2870817184\tLatent: 10.6915178299\n",
      "Epoch:  78\tVal:20.6402075208\tTrain: 20.6611404419\tRecon: 15.3236684799\tLatent: 10.6749429703\n",
      "Epoch:  79\tVal:20.4884750532\tTrain: 20.6229000092\tRecon: 15.2816524506\tLatent: 10.6824951172\n",
      "Model saved in path: modeldir/fashionmnist-full-custom/model_epoch_80\n",
      "Epoch:  80\tVal:20.5526225573\tTrain: 20.6149997711\tRecon: 15.2627649307\tLatent: 10.7044696808\n",
      "Epoch:  81\tVal:20.7121988869\tTrain: 20.6467323303\tRecon: 15.2934465408\tLatent: 10.706571579\n",
      "Epoch:  82\tVal:20.7618021253\tTrain: 20.6753940582\tRecon: 15.3112945557\tLatent: 10.7282009125\n",
      "Epoch:  83\tVal:20.5607297058\tTrain: 20.6651000977\tRecon: 15.2958850861\tLatent: 10.7384338379\n"
     ]
    },
    {
     "name": "stdout",
     "output_type": "stream",
     "text": [
      "Epoch:  84\tVal:20.5448086917\tTrain: 20.6162624359\tRecon: 15.2628011703\tLatent: 10.7069244385\n",
      "Epoch:  85\tVal:20.6280062701\tTrain: 20.5464305878\tRecon: 15.2017126083\tLatent: 10.6894340515\n",
      "Epoch:  86\tVal:20.4822881749\tTrain: 20.5525913239\tRecon: 15.2099647522\tLatent: 10.6852579117\n",
      "Epoch:  87\tVal:20.5012326228\tTrain: 20.5854988098\tRecon: 15.2411556244\tLatent: 10.6886863708\n",
      "Epoch:  88\tVal:20.6883443527\tTrain: 20.6015968323\tRecon: 15.2359619141\tLatent: 10.7312679291\n",
      "Epoch:  89\tVal:20.5462960052\tTrain: 20.5255794525\tRecon: 15.1708192825\tLatent: 10.709523201\n",
      "Model saved in path: modeldir/fashionmnist-full-custom/model_epoch_90\n",
      "Epoch:  90\tVal:20.4998600845\tTrain: 20.5251541138\tRecon: 15.1750507355\tLatent: 10.7002086639\n",
      "Epoch:  91\tVal:20.8176811091\tTrain: 20.5454463959\tRecon: 15.1849889755\tLatent: 10.7209129333\n",
      "Epoch:  92\tVal:20.4249542554\tTrain: 20.5650539398\tRecon: 15.206530571\tLatent: 10.7170495987\n",
      "Epoch:  93\tVal:20.6568230553\tTrain: 20.5383167267\tRecon: 15.1955461502\tLatent: 10.6855382919\n",
      "Epoch:  94\tVal:20.5771736743\tTrain: 20.4631175995\tRecon: 15.102314949\tLatent: 10.7216091156\n",
      "Epoch:  95\tVal:20.4086736577\tTrain: 20.5219688416\tRecon: 15.1561346054\tLatent: 10.7316656113\n",
      "Epoch:  96\tVal:20.6344349467\tTrain: 20.5342521667\tRecon: 15.1547880173\tLatent: 10.7589292526\n",
      "Epoch:  97\tVal:20.4106928813\tTrain: 20.5157585144\tRecon: 15.1502504349\tLatent: 10.7310180664\n",
      "Epoch:  98\tVal:20.7105116514\tTrain: 20.5692825317\tRecon: 15.2026634216\tLatent: 10.7332363129\n",
      "Epoch:  99\tVal:20.6332567329\tTrain: 20.5039081573\tRecon: 15.1324729919\tLatent: 10.7428731918\n",
      "Model saved in path: modeldir/fashionmnist-full-custom/model_epoch_100\n",
      "Epoch: 100\tVal:20.5387862638\tTrain: 20.4804191589\tRecon: 15.1091489792\tLatent: 10.7425432205\n"
     ]
    }
   ],
   "source": [
    "from utils.model import compute_evaluation_measure\n",
    "curr_loss = None\n",
    "best_loss = None\n",
    "no_improvement = 0\n",
    "\n",
    "for epoch in range(1, 101):\n",
    "    epoch_time = time.time()\n",
    "    t_loss     = []\n",
    "    r_loss     = []\n",
    "    l_loss     = []\n",
    "    \n",
    "    for b_tr in range(num_batches_tr): \n",
    "\n",
    "        trX, trY = mod_train_dsl.load_next_batch(b_tr)\n",
    "\n",
    "        global_step, _, summary_str, loss, recon_loss, latent_loss = sess.run([\n",
    "                                         vae.global_step,\n",
    "                                         vae.train_op,\n",
    "                                         vae.train_summary,\n",
    "                                         vae.mean_loss,\n",
    "                                         vae.mean_recon_loss,\n",
    "                                         vae.mean_latent_loss\n",
    "                                      ],\n",
    "                                      feed_dict={\n",
    "                                          vae.X: trX,\n",
    "                                          vae.dropout_keep_prob: cfg.dropout_keep_prob,\n",
    "                                          vae.labels: trY\n",
    "                                      })\n",
    "        t_loss.append(loss)    \n",
    "        r_loss.append(recon_loss)\n",
    "        l_loss.append(latent_loss)\n",
    "\n",
    "    curr_loss = compute_evaluation_measure(vae, sess, mod_train_dsl, vae.sum_loss)\n",
    "\n",
    "    if epoch % 10 == 0:\n",
    "        valX, _ = val_dsl.load_next_batch(1)\n",
    "        decoded = sess.run( vae.decoded, { vae.X: valX  } )\n",
    "\n",
    "        artificial_image = sess.run(vae.x_hat, feed_dict={vae.z: np.random.normal(0, 1, (144, vae.z_size))})\n",
    "\n",
    "        save_path = saver.save(sess, logdir_defender + '/model_epoch_%d' % (epoch) )       \n",
    "        print \"Model saved in path: %s\" % save_path            \n",
    "\n",
    "\n",
    "    print \"Epoch: {}\\tVal:{}\\tTrain: {}\\tRecon: {}\\tLatent: {}\" .format(\n",
    "        '%3d' % epoch,\n",
    "        curr_loss,\n",
    "        np.mean(t_loss),\n",
    "        np.mean(r_loss),\n",
    "        np.mean(l_loss)\n",
    "    ) "
   ]
  },
  {
   "cell_type": "code",
   "execution_count": null,
   "metadata": {},
   "outputs": [],
   "source": []
  },
  {
   "cell_type": "code",
   "execution_count": null,
   "metadata": {},
   "outputs": [],
   "source": []
  }
 ],
 "metadata": {
  "kernelspec": {
   "display_name": "Python var_kernal",
   "language": "python",
   "name": "var"
  },
  "language_info": {
   "codemirror_mode": {
    "name": "ipython",
    "version": 2
   },
   "file_extension": ".py",
   "mimetype": "text/x-python",
   "name": "python",
   "nbconvert_exporter": "python",
   "pygments_lexer": "ipython2",
   "version": "2.7.18"
  }
 },
 "nbformat": 4,
 "nbformat_minor": 2
}
